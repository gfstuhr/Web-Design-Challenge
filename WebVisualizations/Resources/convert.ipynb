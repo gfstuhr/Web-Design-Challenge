{
 "metadata": {
  "language_info": {
   "codemirror_mode": {
    "name": "ipython",
    "version": 3
   },
   "file_extension": ".py",
   "mimetype": "text/x-python",
   "name": "python",
   "nbconvert_exporter": "python",
   "pygments_lexer": "ipython3",
   "version": "3.7.6-final"
  },
  "orig_nbformat": 2,
  "kernelspec": {
   "name": "python_defaultSpec_1598911436386",
   "display_name": "Python 3.7.6 64-bit ('base': conda)"
  }
 },
 "nbformat": 4,
 "nbformat_minor": 2,
 "cells": [
  {
   "cell_type": "code",
   "execution_count": 4,
   "metadata": {},
   "outputs": [],
   "source": [
    "import pandas as pd"
   ]
  },
  {
   "cell_type": "code",
   "execution_count": 5,
   "metadata": {},
   "outputs": [
    {
     "output_type": "execute_result",
     "data": {
      "text/plain": "            City    Lat     Lng  Max Temp  Humidity  Cloudiness  Wind Speed  \\\n0        talnakh  69.49   88.40     60.80      67.0        34.0        8.95   \n1          bluff -46.60  168.33     50.32      91.0       100.0       13.80   \n2    port alfred -33.59   26.89     60.57      70.0         0.0       14.52   \n3         hobart -42.88  147.33     48.20      61.0        13.0       12.75   \n4        qaanaaq  77.48  -69.36     42.49      73.0        70.0        2.13   \n..           ...    ...     ...       ...       ...         ...         ...   \n560         hofn  64.25  -15.21     53.60      76.0        20.0       12.75   \n561     matagami  49.75  -77.63     62.60      93.0        75.0        4.41   \n562        pafos  34.77   32.42     87.80      62.0         0.0       12.75   \n563         tame   6.46  -71.73     84.72      65.0        25.0        5.55   \n564    bathsheba  13.22  -59.52     87.80      74.0        40.0       24.16   \n\n    Country        Date  \n0        RU  1596036971  \n1        NZ  1596036919  \n2        ZA  1596036937  \n3        AU  1596036878  \n4        GL  1596036972  \n..      ...         ...  \n560      IS  1596037161  \n561      CA  1596037161  \n562      CY  1596037162  \n563      CO  1596037162  \n564      BB  1596037162  \n\n[565 rows x 9 columns]",
      "text/html": "<div>\n<style scoped>\n    .dataframe tbody tr th:only-of-type {\n        vertical-align: middle;\n    }\n\n    .dataframe tbody tr th {\n        vertical-align: top;\n    }\n\n    .dataframe thead th {\n        text-align: right;\n    }\n</style>\n<table border=\"1\" class=\"dataframe\">\n  <thead>\n    <tr style=\"text-align: right;\">\n      <th></th>\n      <th>City</th>\n      <th>Lat</th>\n      <th>Lng</th>\n      <th>Max Temp</th>\n      <th>Humidity</th>\n      <th>Cloudiness</th>\n      <th>Wind Speed</th>\n      <th>Country</th>\n      <th>Date</th>\n    </tr>\n  </thead>\n  <tbody>\n    <tr>\n      <th>0</th>\n      <td>talnakh</td>\n      <td>69.49</td>\n      <td>88.40</td>\n      <td>60.80</td>\n      <td>67.0</td>\n      <td>34.0</td>\n      <td>8.95</td>\n      <td>RU</td>\n      <td>1596036971</td>\n    </tr>\n    <tr>\n      <th>1</th>\n      <td>bluff</td>\n      <td>-46.60</td>\n      <td>168.33</td>\n      <td>50.32</td>\n      <td>91.0</td>\n      <td>100.0</td>\n      <td>13.80</td>\n      <td>NZ</td>\n      <td>1596036919</td>\n    </tr>\n    <tr>\n      <th>2</th>\n      <td>port alfred</td>\n      <td>-33.59</td>\n      <td>26.89</td>\n      <td>60.57</td>\n      <td>70.0</td>\n      <td>0.0</td>\n      <td>14.52</td>\n      <td>ZA</td>\n      <td>1596036937</td>\n    </tr>\n    <tr>\n      <th>3</th>\n      <td>hobart</td>\n      <td>-42.88</td>\n      <td>147.33</td>\n      <td>48.20</td>\n      <td>61.0</td>\n      <td>13.0</td>\n      <td>12.75</td>\n      <td>AU</td>\n      <td>1596036878</td>\n    </tr>\n    <tr>\n      <th>4</th>\n      <td>qaanaaq</td>\n      <td>77.48</td>\n      <td>-69.36</td>\n      <td>42.49</td>\n      <td>73.0</td>\n      <td>70.0</td>\n      <td>2.13</td>\n      <td>GL</td>\n      <td>1596036972</td>\n    </tr>\n    <tr>\n      <th>...</th>\n      <td>...</td>\n      <td>...</td>\n      <td>...</td>\n      <td>...</td>\n      <td>...</td>\n      <td>...</td>\n      <td>...</td>\n      <td>...</td>\n      <td>...</td>\n    </tr>\n    <tr>\n      <th>560</th>\n      <td>hofn</td>\n      <td>64.25</td>\n      <td>-15.21</td>\n      <td>53.60</td>\n      <td>76.0</td>\n      <td>20.0</td>\n      <td>12.75</td>\n      <td>IS</td>\n      <td>1596037161</td>\n    </tr>\n    <tr>\n      <th>561</th>\n      <td>matagami</td>\n      <td>49.75</td>\n      <td>-77.63</td>\n      <td>62.60</td>\n      <td>93.0</td>\n      <td>75.0</td>\n      <td>4.41</td>\n      <td>CA</td>\n      <td>1596037161</td>\n    </tr>\n    <tr>\n      <th>562</th>\n      <td>pafos</td>\n      <td>34.77</td>\n      <td>32.42</td>\n      <td>87.80</td>\n      <td>62.0</td>\n      <td>0.0</td>\n      <td>12.75</td>\n      <td>CY</td>\n      <td>1596037162</td>\n    </tr>\n    <tr>\n      <th>563</th>\n      <td>tame</td>\n      <td>6.46</td>\n      <td>-71.73</td>\n      <td>84.72</td>\n      <td>65.0</td>\n      <td>25.0</td>\n      <td>5.55</td>\n      <td>CO</td>\n      <td>1596037162</td>\n    </tr>\n    <tr>\n      <th>564</th>\n      <td>bathsheba</td>\n      <td>13.22</td>\n      <td>-59.52</td>\n      <td>87.80</td>\n      <td>74.0</td>\n      <td>40.0</td>\n      <td>24.16</td>\n      <td>BB</td>\n      <td>1596037162</td>\n    </tr>\n  </tbody>\n</table>\n<p>565 rows × 9 columns</p>\n</div>"
     },
     "metadata": {},
     "execution_count": 5
    }
   ],
   "source": [
    "filepath=(\"cities.csv\")\n",
    "data=pd.read_csv(filepath)\n",
    "data"
   ]
  },
  {
   "cell_type": "code",
   "execution_count": 8,
   "metadata": {
    "tags": []
   },
   "outputs": [],
   "source": [
    "table=data.to_html()"
   ]
  },
  {
   "cell_type": "code",
   "execution_count": 9,
   "metadata": {},
   "outputs": [],
   "source": [
    "html_text=open(\"html_text\",\"w\")\n",
    "html_text.write(table)\n",
    "html_text.close()"
   ]
  },
  {
   "cell_type": "code",
   "execution_count": null,
   "metadata": {},
   "outputs": [],
   "source": []
  }
 ]
}